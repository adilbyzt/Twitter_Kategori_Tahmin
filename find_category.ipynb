{
  "nbformat": 4,
  "nbformat_minor": 0,
  "metadata": {
    "colab": {
      "provenance": []
    },
    "kernelspec": {
      "name": "python3",
      "display_name": "Python 3"
    },
    "language_info": {
      "name": "python"
    }
  },
  "cells": [
    {
      "cell_type": "code",
      "execution_count": 117,
      "metadata": {
        "id": "ANV8yFA_MC2A"
      },
      "outputs": [],
      "source": [
        "import nltk\n",
        "import numpy as np\n",
        "import pandas as pd\n",
        "import string\n",
        "from sklearn.naive_bayes import MultinomialNB\n",
        "from sklearn import svm\n",
        "from sklearn.feature_extraction.text import TfidfVectorizer\n",
        "from sklearn.model_selection import train_test_split\n",
        "from sklearn.metrics import f1_score\n",
        "import unicodedata"
      ]
    },
    {
      "cell_type": "code",
      "source": [
        "#veriseti data frame'ye aktarılıyor \n",
        "\n",
        "df = pd.read_csv(\"clean_all_tweets.csv\", index_col=[0])"
      ],
      "metadata": {
        "id": "kC7wjIt5MUMM"
      },
      "execution_count": 118,
      "outputs": []
    },
    {
      "cell_type": "code",
      "source": [
        "#verisetinin içerisi\n",
        "\n",
        "df.head()"
      ],
      "metadata": {
        "colab": {
          "base_uri": "https://localhost:8080/",
          "height": 206
        },
        "id": "cmceEV25NjPK",
        "outputId": "e8e27809-1651-437d-c6d2-8ec83c87ba92"
      },
      "execution_count": 119,
      "outputs": [
        {
          "output_type": "execute_result",
          "data": {
            "text/plain": [
              "                        Date     User  \\\n",
              "0  2021-12-31 21:20:00+00:00  trtspor   \n",
              "1  2021-12-31 20:50:00+00:00  trtspor   \n",
              "2  2021-12-31 20:40:00+00:00  trtspor   \n",
              "3  2021-12-31 20:30:00+00:00  trtspor   \n",
              "4  2021-12-31 20:20:00+00:00  trtspor   \n",
              "\n",
              "                                               Tweet Category  \\\n",
              "0  Mikrofon Elvir Balic'te 🎵🎶\\n\\nGüzel bir sahne ...     spor   \n",
              "1  Futbolda nadiren yaşanan anlardan birine bu yı...     spor   \n",
              "2  🔙 Yıl 1992... ❝Spor Stüdyosu❞ programı. \\n\\n🎙 ...     spor   \n",
              "3  📆 2021 yılı sadece olağan spor olaylarına deği...     spor   \n",
              "4  😯📸 Spor dünyasında, 2021 yılından akılda kalan...     spor   \n",
              "\n",
              "                                               Clean  \n",
              "0  mikrofon elvir balicte güzel bir sahne perform...  \n",
              "1  futbol nadiren yaşamak an bir yıl şahit olmak ...  \n",
              "2  yıl 1992 spor stüdyo program konuk fenerbahçe ...  \n",
              "3  2021 yıl sadece olağan spor olay değmek pandem...  \n",
              "4      spor dünya 2021 yıl akıl kalmak kare derlemek  "
            ],
            "text/html": [
              "\n",
              "  <div id=\"df-812e528a-008b-4434-bdf2-01e864c112b6\">\n",
              "    <div class=\"colab-df-container\">\n",
              "      <div>\n",
              "<style scoped>\n",
              "    .dataframe tbody tr th:only-of-type {\n",
              "        vertical-align: middle;\n",
              "    }\n",
              "\n",
              "    .dataframe tbody tr th {\n",
              "        vertical-align: top;\n",
              "    }\n",
              "\n",
              "    .dataframe thead th {\n",
              "        text-align: right;\n",
              "    }\n",
              "</style>\n",
              "<table border=\"1\" class=\"dataframe\">\n",
              "  <thead>\n",
              "    <tr style=\"text-align: right;\">\n",
              "      <th></th>\n",
              "      <th>Date</th>\n",
              "      <th>User</th>\n",
              "      <th>Tweet</th>\n",
              "      <th>Category</th>\n",
              "      <th>Clean</th>\n",
              "    </tr>\n",
              "  </thead>\n",
              "  <tbody>\n",
              "    <tr>\n",
              "      <th>0</th>\n",
              "      <td>2021-12-31 21:20:00+00:00</td>\n",
              "      <td>trtspor</td>\n",
              "      <td>Mikrofon Elvir Balic'te 🎵🎶\\n\\nGüzel bir sahne ...</td>\n",
              "      <td>spor</td>\n",
              "      <td>mikrofon elvir balicte güzel bir sahne perform...</td>\n",
              "    </tr>\n",
              "    <tr>\n",
              "      <th>1</th>\n",
              "      <td>2021-12-31 20:50:00+00:00</td>\n",
              "      <td>trtspor</td>\n",
              "      <td>Futbolda nadiren yaşanan anlardan birine bu yı...</td>\n",
              "      <td>spor</td>\n",
              "      <td>futbol nadiren yaşamak an bir yıl şahit olmak ...</td>\n",
              "    </tr>\n",
              "    <tr>\n",
              "      <th>2</th>\n",
              "      <td>2021-12-31 20:40:00+00:00</td>\n",
              "      <td>trtspor</td>\n",
              "      <td>🔙 Yıl 1992... ❝Spor Stüdyosu❞ programı. \\n\\n🎙 ...</td>\n",
              "      <td>spor</td>\n",
              "      <td>yıl 1992 spor stüdyo program konuk fenerbahçe ...</td>\n",
              "    </tr>\n",
              "    <tr>\n",
              "      <th>3</th>\n",
              "      <td>2021-12-31 20:30:00+00:00</td>\n",
              "      <td>trtspor</td>\n",
              "      <td>📆 2021 yılı sadece olağan spor olaylarına deği...</td>\n",
              "      <td>spor</td>\n",
              "      <td>2021 yıl sadece olağan spor olay değmek pandem...</td>\n",
              "    </tr>\n",
              "    <tr>\n",
              "      <th>4</th>\n",
              "      <td>2021-12-31 20:20:00+00:00</td>\n",
              "      <td>trtspor</td>\n",
              "      <td>😯📸 Spor dünyasında, 2021 yılından akılda kalan...</td>\n",
              "      <td>spor</td>\n",
              "      <td>spor dünya 2021 yıl akıl kalmak kare derlemek</td>\n",
              "    </tr>\n",
              "  </tbody>\n",
              "</table>\n",
              "</div>\n",
              "      <button class=\"colab-df-convert\" onclick=\"convertToInteractive('df-812e528a-008b-4434-bdf2-01e864c112b6')\"\n",
              "              title=\"Convert this dataframe to an interactive table.\"\n",
              "              style=\"display:none;\">\n",
              "        \n",
              "  <svg xmlns=\"http://www.w3.org/2000/svg\" height=\"24px\"viewBox=\"0 0 24 24\"\n",
              "       width=\"24px\">\n",
              "    <path d=\"M0 0h24v24H0V0z\" fill=\"none\"/>\n",
              "    <path d=\"M18.56 5.44l.94 2.06.94-2.06 2.06-.94-2.06-.94-.94-2.06-.94 2.06-2.06.94zm-11 1L8.5 8.5l.94-2.06 2.06-.94-2.06-.94L8.5 2.5l-.94 2.06-2.06.94zm10 10l.94 2.06.94-2.06 2.06-.94-2.06-.94-.94-2.06-.94 2.06-2.06.94z\"/><path d=\"M17.41 7.96l-1.37-1.37c-.4-.4-.92-.59-1.43-.59-.52 0-1.04.2-1.43.59L10.3 9.45l-7.72 7.72c-.78.78-.78 2.05 0 2.83L4 21.41c.39.39.9.59 1.41.59.51 0 1.02-.2 1.41-.59l7.78-7.78 2.81-2.81c.8-.78.8-2.07 0-2.86zM5.41 20L4 18.59l7.72-7.72 1.47 1.35L5.41 20z\"/>\n",
              "  </svg>\n",
              "      </button>\n",
              "      \n",
              "  <style>\n",
              "    .colab-df-container {\n",
              "      display:flex;\n",
              "      flex-wrap:wrap;\n",
              "      gap: 12px;\n",
              "    }\n",
              "\n",
              "    .colab-df-convert {\n",
              "      background-color: #E8F0FE;\n",
              "      border: none;\n",
              "      border-radius: 50%;\n",
              "      cursor: pointer;\n",
              "      display: none;\n",
              "      fill: #1967D2;\n",
              "      height: 32px;\n",
              "      padding: 0 0 0 0;\n",
              "      width: 32px;\n",
              "    }\n",
              "\n",
              "    .colab-df-convert:hover {\n",
              "      background-color: #E2EBFA;\n",
              "      box-shadow: 0px 1px 2px rgba(60, 64, 67, 0.3), 0px 1px 3px 1px rgba(60, 64, 67, 0.15);\n",
              "      fill: #174EA6;\n",
              "    }\n",
              "\n",
              "    [theme=dark] .colab-df-convert {\n",
              "      background-color: #3B4455;\n",
              "      fill: #D2E3FC;\n",
              "    }\n",
              "\n",
              "    [theme=dark] .colab-df-convert:hover {\n",
              "      background-color: #434B5C;\n",
              "      box-shadow: 0px 1px 3px 1px rgba(0, 0, 0, 0.15);\n",
              "      filter: drop-shadow(0px 1px 2px rgba(0, 0, 0, 0.3));\n",
              "      fill: #FFFFFF;\n",
              "    }\n",
              "  </style>\n",
              "\n",
              "      <script>\n",
              "        const buttonEl =\n",
              "          document.querySelector('#df-812e528a-008b-4434-bdf2-01e864c112b6 button.colab-df-convert');\n",
              "        buttonEl.style.display =\n",
              "          google.colab.kernel.accessAllowed ? 'block' : 'none';\n",
              "\n",
              "        async function convertToInteractive(key) {\n",
              "          const element = document.querySelector('#df-812e528a-008b-4434-bdf2-01e864c112b6');\n",
              "          const dataTable =\n",
              "            await google.colab.kernel.invokeFunction('convertToInteractive',\n",
              "                                                     [key], {});\n",
              "          if (!dataTable) return;\n",
              "\n",
              "          const docLinkHtml = 'Like what you see? Visit the ' +\n",
              "            '<a target=\"_blank\" href=https://colab.research.google.com/notebooks/data_table.ipynb>data table notebook</a>'\n",
              "            + ' to learn more about interactive tables.';\n",
              "          element.innerHTML = '';\n",
              "          dataTable['output_type'] = 'display_data';\n",
              "          await google.colab.output.renderOutput(dataTable, element);\n",
              "          const docLink = document.createElement('div');\n",
              "          docLink.innerHTML = docLinkHtml;\n",
              "          element.appendChild(docLink);\n",
              "        }\n",
              "      </script>\n",
              "    </div>\n",
              "  </div>\n",
              "  "
            ]
          },
          "metadata": {},
          "execution_count": 119
        }
      ]
    },
    {
      "cell_type": "code",
      "source": [
        "#Belirlenmiş olan kategoriler tanımlanıyor\n",
        "\n",
        "category = [\"spor\", \"ekonomi\", \"siyaset\", \"teknoloji & bilim\"]"
      ],
      "metadata": {
        "id": "Yp8tkmbUNpro"
      },
      "execution_count": 120,
      "outputs": []
    },
    {
      "cell_type": "code",
      "source": [
        "#Hangi tweetin hangi kategoriye ait olduğu etiketleniyor 0=spor 1=ekonomi 2=siyaset 3=teknoloji & bilim\n",
        "\n",
        "def etiketle(row):   \n",
        "    for key,i in enumerate(category):\n",
        "        if row[\"Category\"] == i:\n",
        "            return key"
      ],
      "metadata": {
        "id": "rG-_z0G_Nx9s"
      },
      "execution_count": 121,
      "outputs": []
    },
    {
      "cell_type": "code",
      "source": [
        "#tweet kategorisi spor olanların kategorisine(labels) 0, ekonomi olanların 1, siyaset olanların 2, teknoloji & bilim olanlara 3 değerini giriyor\n",
        "\n",
        "df[\"labels\"] = df.apply(lambda row:  etiketle(row), axis=1) "
      ],
      "metadata": {
        "id": "rdz46ePJQqXM"
      },
      "execution_count": 122,
      "outputs": []
    },
    {
      "cell_type": "code",
      "source": [
        "df.head()"
      ],
      "metadata": {
        "colab": {
          "base_uri": "https://localhost:8080/",
          "height": 250
        },
        "id": "d0YYrFB2N8k1",
        "outputId": "d80da0eb-b0d8-4d4e-82d3-9998075f6b96"
      },
      "execution_count": 123,
      "outputs": [
        {
          "output_type": "execute_result",
          "data": {
            "text/plain": [
              "                        Date     User  \\\n",
              "0  2021-12-31 21:20:00+00:00  trtspor   \n",
              "1  2021-12-31 20:50:00+00:00  trtspor   \n",
              "2  2021-12-31 20:40:00+00:00  trtspor   \n",
              "3  2021-12-31 20:30:00+00:00  trtspor   \n",
              "4  2021-12-31 20:20:00+00:00  trtspor   \n",
              "\n",
              "                                               Tweet Category  \\\n",
              "0  Mikrofon Elvir Balic'te 🎵🎶\\n\\nGüzel bir sahne ...     spor   \n",
              "1  Futbolda nadiren yaşanan anlardan birine bu yı...     spor   \n",
              "2  🔙 Yıl 1992... ❝Spor Stüdyosu❞ programı. \\n\\n🎙 ...     spor   \n",
              "3  📆 2021 yılı sadece olağan spor olaylarına deği...     spor   \n",
              "4  😯📸 Spor dünyasında, 2021 yılından akılda kalan...     spor   \n",
              "\n",
              "                                               Clean  labels  \n",
              "0  mikrofon elvir balicte güzel bir sahne perform...       0  \n",
              "1  futbol nadiren yaşamak an bir yıl şahit olmak ...       0  \n",
              "2  yıl 1992 spor stüdyo program konuk fenerbahçe ...       0  \n",
              "3  2021 yıl sadece olağan spor olay değmek pandem...       0  \n",
              "4      spor dünya 2021 yıl akıl kalmak kare derlemek       0  "
            ],
            "text/html": [
              "\n",
              "  <div id=\"df-78570607-ab9d-42f7-8a96-a57eb869eda9\">\n",
              "    <div class=\"colab-df-container\">\n",
              "      <div>\n",
              "<style scoped>\n",
              "    .dataframe tbody tr th:only-of-type {\n",
              "        vertical-align: middle;\n",
              "    }\n",
              "\n",
              "    .dataframe tbody tr th {\n",
              "        vertical-align: top;\n",
              "    }\n",
              "\n",
              "    .dataframe thead th {\n",
              "        text-align: right;\n",
              "    }\n",
              "</style>\n",
              "<table border=\"1\" class=\"dataframe\">\n",
              "  <thead>\n",
              "    <tr style=\"text-align: right;\">\n",
              "      <th></th>\n",
              "      <th>Date</th>\n",
              "      <th>User</th>\n",
              "      <th>Tweet</th>\n",
              "      <th>Category</th>\n",
              "      <th>Clean</th>\n",
              "      <th>labels</th>\n",
              "    </tr>\n",
              "  </thead>\n",
              "  <tbody>\n",
              "    <tr>\n",
              "      <th>0</th>\n",
              "      <td>2021-12-31 21:20:00+00:00</td>\n",
              "      <td>trtspor</td>\n",
              "      <td>Mikrofon Elvir Balic'te 🎵🎶\\n\\nGüzel bir sahne ...</td>\n",
              "      <td>spor</td>\n",
              "      <td>mikrofon elvir balicte güzel bir sahne perform...</td>\n",
              "      <td>0</td>\n",
              "    </tr>\n",
              "    <tr>\n",
              "      <th>1</th>\n",
              "      <td>2021-12-31 20:50:00+00:00</td>\n",
              "      <td>trtspor</td>\n",
              "      <td>Futbolda nadiren yaşanan anlardan birine bu yı...</td>\n",
              "      <td>spor</td>\n",
              "      <td>futbol nadiren yaşamak an bir yıl şahit olmak ...</td>\n",
              "      <td>0</td>\n",
              "    </tr>\n",
              "    <tr>\n",
              "      <th>2</th>\n",
              "      <td>2021-12-31 20:40:00+00:00</td>\n",
              "      <td>trtspor</td>\n",
              "      <td>🔙 Yıl 1992... ❝Spor Stüdyosu❞ programı. \\n\\n🎙 ...</td>\n",
              "      <td>spor</td>\n",
              "      <td>yıl 1992 spor stüdyo program konuk fenerbahçe ...</td>\n",
              "      <td>0</td>\n",
              "    </tr>\n",
              "    <tr>\n",
              "      <th>3</th>\n",
              "      <td>2021-12-31 20:30:00+00:00</td>\n",
              "      <td>trtspor</td>\n",
              "      <td>📆 2021 yılı sadece olağan spor olaylarına deği...</td>\n",
              "      <td>spor</td>\n",
              "      <td>2021 yıl sadece olağan spor olay değmek pandem...</td>\n",
              "      <td>0</td>\n",
              "    </tr>\n",
              "    <tr>\n",
              "      <th>4</th>\n",
              "      <td>2021-12-31 20:20:00+00:00</td>\n",
              "      <td>trtspor</td>\n",
              "      <td>😯📸 Spor dünyasında, 2021 yılından akılda kalan...</td>\n",
              "      <td>spor</td>\n",
              "      <td>spor dünya 2021 yıl akıl kalmak kare derlemek</td>\n",
              "      <td>0</td>\n",
              "    </tr>\n",
              "  </tbody>\n",
              "</table>\n",
              "</div>\n",
              "      <button class=\"colab-df-convert\" onclick=\"convertToInteractive('df-78570607-ab9d-42f7-8a96-a57eb869eda9')\"\n",
              "              title=\"Convert this dataframe to an interactive table.\"\n",
              "              style=\"display:none;\">\n",
              "        \n",
              "  <svg xmlns=\"http://www.w3.org/2000/svg\" height=\"24px\"viewBox=\"0 0 24 24\"\n",
              "       width=\"24px\">\n",
              "    <path d=\"M0 0h24v24H0V0z\" fill=\"none\"/>\n",
              "    <path d=\"M18.56 5.44l.94 2.06.94-2.06 2.06-.94-2.06-.94-.94-2.06-.94 2.06-2.06.94zm-11 1L8.5 8.5l.94-2.06 2.06-.94-2.06-.94L8.5 2.5l-.94 2.06-2.06.94zm10 10l.94 2.06.94-2.06 2.06-.94-2.06-.94-.94-2.06-.94 2.06-2.06.94z\"/><path d=\"M17.41 7.96l-1.37-1.37c-.4-.4-.92-.59-1.43-.59-.52 0-1.04.2-1.43.59L10.3 9.45l-7.72 7.72c-.78.78-.78 2.05 0 2.83L4 21.41c.39.39.9.59 1.41.59.51 0 1.02-.2 1.41-.59l7.78-7.78 2.81-2.81c.8-.78.8-2.07 0-2.86zM5.41 20L4 18.59l7.72-7.72 1.47 1.35L5.41 20z\"/>\n",
              "  </svg>\n",
              "      </button>\n",
              "      \n",
              "  <style>\n",
              "    .colab-df-container {\n",
              "      display:flex;\n",
              "      flex-wrap:wrap;\n",
              "      gap: 12px;\n",
              "    }\n",
              "\n",
              "    .colab-df-convert {\n",
              "      background-color: #E8F0FE;\n",
              "      border: none;\n",
              "      border-radius: 50%;\n",
              "      cursor: pointer;\n",
              "      display: none;\n",
              "      fill: #1967D2;\n",
              "      height: 32px;\n",
              "      padding: 0 0 0 0;\n",
              "      width: 32px;\n",
              "    }\n",
              "\n",
              "    .colab-df-convert:hover {\n",
              "      background-color: #E2EBFA;\n",
              "      box-shadow: 0px 1px 2px rgba(60, 64, 67, 0.3), 0px 1px 3px 1px rgba(60, 64, 67, 0.15);\n",
              "      fill: #174EA6;\n",
              "    }\n",
              "\n",
              "    [theme=dark] .colab-df-convert {\n",
              "      background-color: #3B4455;\n",
              "      fill: #D2E3FC;\n",
              "    }\n",
              "\n",
              "    [theme=dark] .colab-df-convert:hover {\n",
              "      background-color: #434B5C;\n",
              "      box-shadow: 0px 1px 3px 1px rgba(0, 0, 0, 0.15);\n",
              "      filter: drop-shadow(0px 1px 2px rgba(0, 0, 0, 0.3));\n",
              "      fill: #FFFFFF;\n",
              "    }\n",
              "  </style>\n",
              "\n",
              "      <script>\n",
              "        const buttonEl =\n",
              "          document.querySelector('#df-78570607-ab9d-42f7-8a96-a57eb869eda9 button.colab-df-convert');\n",
              "        buttonEl.style.display =\n",
              "          google.colab.kernel.accessAllowed ? 'block' : 'none';\n",
              "\n",
              "        async function convertToInteractive(key) {\n",
              "          const element = document.querySelector('#df-78570607-ab9d-42f7-8a96-a57eb869eda9');\n",
              "          const dataTable =\n",
              "            await google.colab.kernel.invokeFunction('convertToInteractive',\n",
              "                                                     [key], {});\n",
              "          if (!dataTable) return;\n",
              "\n",
              "          const docLinkHtml = 'Like what you see? Visit the ' +\n",
              "            '<a target=\"_blank\" href=https://colab.research.google.com/notebooks/data_table.ipynb>data table notebook</a>'\n",
              "            + ' to learn more about interactive tables.';\n",
              "          element.innerHTML = '';\n",
              "          dataTable['output_type'] = 'display_data';\n",
              "          await google.colab.output.renderOutput(dataTable, element);\n",
              "          const docLink = document.createElement('div');\n",
              "          docLink.innerHTML = docLinkHtml;\n",
              "          element.appendChild(docLink);\n",
              "        }\n",
              "      </script>\n",
              "    </div>\n",
              "  </div>\n",
              "  "
            ]
          },
          "metadata": {},
          "execution_count": 123
        }
      ]
    },
    {
      "cell_type": "code",
      "source": [
        "X = df.Clean.to_numpy()  #X arrayine temizlenmiş tweetleri koydu (Clean kolonu)\n",
        "y = df.labels.to_numpy() #Y arrayine kategorileri koydu (labels kolonu)"
      ],
      "metadata": {
        "id": "MtjWxfaLRL69"
      },
      "execution_count": 124,
      "outputs": []
    },
    {
      "cell_type": "code",
      "source": [
        "#tweetlerin arasında istenmeyen karakterler olduğu için utf-8 formatına çeviriliyor\n",
        "\n",
        "unc_dat=[] #unicode data\n",
        "for data in X:\n",
        "    unc_dat.append(unicodedata.normalize('NFKD', str(data)).encode('utf-8', 'ignore'))"
      ],
      "metadata": {
        "id": "LLJfjtEyTmxG"
      },
      "execution_count": 125,
      "outputs": []
    },
    {
      "cell_type": "code",
      "source": [
        "X_train, X_test, y_train, y_test = train_test_split(  #x ve y train ve test olarak %80 train - %20 test olacak şekilde parçalanıyor\n",
        "    unc_dat, y, test_size=0.2, random_state=42)"
      ],
      "metadata": {
        "id": "cyFPDrY2UIxR"
      },
      "execution_count": 126,
      "outputs": []
    },
    {
      "cell_type": "code",
      "source": [
        "#Örnek olarak veriler bu şekilde parçalanıyor"
      ],
      "metadata": {
        "id": "LHLKpveYWmHN"
      },
      "execution_count": 127,
      "outputs": []
    },
    {
      "cell_type": "markdown",
      "source": [
        "![train_test.jpg](data:image/jpeg;base64,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)\n"
      ],
      "metadata": {
        "id": "pMbcIwgHWUNg"
      }
    },
    {
      "cell_type": "code",
      "source": [
        "#tweetlerin vektörel matrisi çıkartılıyor. Bu matriste hangi kelimenin, hangi tweette kaç kere geçtiğinin sayısı tutuluyor.\n",
        "\n",
        "vectorizer = TfidfVectorizer()               #Tf Idf kullanılarak bir kelimenin döküman içindeki önemi istatistiksel olarak hesaplanıyor\n",
        "\n",
        "Xtrain=X_train\n",
        "Xtest=X_test\n",
        "\n",
        "X_train = vectorizer.fit_transform(X_train)  #Modelin verileri işleyebilmesi için veriler vektöre çeviriliyor\n",
        "X_test = vectorizer.transform(X_test)"
      ],
      "metadata": {
        "id": "8bxCT080WrsQ"
      },
      "execution_count": 128,
      "outputs": []
    },
    {
      "cell_type": "code",
      "source": [
        "#multinomialNB (bayes) modeli train verilerini kullanarak eğitiliyor ve test verileri modele gönderilerek başarısı ölçülüyor\n",
        "\n",
        "model_NB = MultinomialNB()\n",
        "model_NB.fit(X_train, y_train)\n",
        "\n",
        "print(\"multinomialNB model\\n\")\n",
        "\n",
        "print(\"Train Accuracy:\", model_NB.score(X_train, y_train))      #Model train accuracy\n",
        "predictions_train_nb = model_NB.predict(X_train)                 \n",
        "print(\"Train F1 Score:\", f1_score(y_train, predictions_train_nb, average='micro'))  #Train F1 score\n",
        "\n",
        "print(\"\\n\")\n",
        "\n",
        "print(\"Test Accuracy:\", model_NB.score(X_test, y_test))         #Model test accuracy\n",
        "predictions_test_nb = model_NB.predict(X_test)            \n",
        "print(\"Test F1 Score:\", f1_score(y_test, predictions_test_nb, average='micro'))     #Test F1 score"
      ],
      "metadata": {
        "colab": {
          "base_uri": "https://localhost:8080/"
        },
        "id": "rjC8nRgkd4DP",
        "outputId": "7ee13a5e-6d86-44a5-eac6-5cadbf19be48"
      },
      "execution_count": 130,
      "outputs": [
        {
          "output_type": "stream",
          "name": "stdout",
          "text": [
            "multinomialNB model\n",
            "\n",
            "Train Accuracy: 0.9107983732876712\n",
            "Train F1 Score: 0.9107983732876712\n",
            "\n",
            "\n",
            "Test Accuracy: 0.8647260273972602\n",
            "Test F1 Score: 0.8647260273972602\n"
          ]
        }
      ]
    },
    {
      "cell_type": "code",
      "source": [
        "#SVM modeli train verilerini kullanarak eğitiliyor ve test verileri modele gönderilerek başarısı ölçülüyor\n",
        "\n",
        "model_SVM=svm.SVC(kernel='linear',random_state=0,probability=True)\n",
        "model_SVM.fit(X_train, y_train)\n",
        "\n",
        "print(\"SVM model\\n\")\n",
        "\n",
        "print(\"SVM train accuracy:\", model_SVM.score(X_train, y_train))   #Model train accuracy\n",
        "predictions_train_svm = model_SVM.predict(X_train)                   \n",
        "print(\"SVM Train F1:\", f1_score(y_train, predictions_train_svm, average='micro'))     #Train F1 score\n",
        "\n",
        "print(\"\\n\")\n",
        "\n",
        "print(\"SVM test accuracy:\", model_SVM.score(X_test, y_test))      #Model test accuracy\n",
        "predictions_test_svm = model_SVM.predict(X_test)                     \n",
        "print(\"SVM Test F1:\", f1_score(y_test, predictions_test_svm, average='micro'))        #Test F1 score\n"
      ],
      "metadata": {
        "colab": {
          "base_uri": "https://localhost:8080/"
        },
        "id": "1yC93oQFf0AV",
        "outputId": "5d8f1a1a-383e-47d0-928a-1a36248c0164"
      },
      "execution_count": 154,
      "outputs": [
        {
          "output_type": "stream",
          "name": "stdout",
          "text": [
            "SVM model\n",
            "\n",
            "SVM train accuracy: 0.950824058219178\n",
            "SVM Train F1: 0.950824058219178\n",
            "\n",
            "\n",
            "SVM test accuracy: 0.8683647260273972\n",
            "SVM Test F1: 0.8683647260273973\n"
          ]
        }
      ]
    },
    {
      "cell_type": "code",
      "source": [
        "#Kategorilere göre başarı dağılımlarının gösterilmesi\n",
        "\n",
        "from sklearn.metrics import classification_report\n",
        "\n",
        "print(\"NB\\n\")\n",
        "\n",
        "print(classification_report(y_test,predictions_test_nb,target_names=category))\n",
        "\n",
        "print(\"\\n----------------------------------------------------------------\\n\")\n",
        "print(\"SVM\\n\")\n",
        "\n",
        "print(classification_report(y_test,predictions_test_svm,target_names=category))\n"
      ],
      "metadata": {
        "id": "_YeBw-7WQKMG",
        "colab": {
          "base_uri": "https://localhost:8080/"
        },
        "outputId": "03bf7b25-a7c4-446c-97d6-0f06b0eea3f0"
      },
      "execution_count": 150,
      "outputs": [
        {
          "output_type": "stream",
          "name": "stdout",
          "text": [
            "NB\n",
            "\n",
            "                   precision    recall  f1-score   support\n",
            "\n",
            "             spor       0.96      0.94      0.95      1173\n",
            "          ekonomi       0.80      0.82      0.81      1162\n",
            "          siyaset       0.80      0.85      0.82      1144\n",
            "teknoloji & bilim       0.90      0.85      0.87      1193\n",
            "\n",
            "         accuracy                           0.86      4672\n",
            "        macro avg       0.87      0.86      0.86      4672\n",
            "     weighted avg       0.87      0.86      0.87      4672\n",
            "\n",
            "\n",
            "----------------------------------------------------------------\n",
            "\n",
            "SVM\n",
            "\n",
            "                   precision    recall  f1-score   support\n",
            "\n",
            "             spor       0.96      0.95      0.95      1173\n",
            "          ekonomi       0.79      0.83      0.81      1162\n",
            "          siyaset       0.85      0.82      0.83      1144\n",
            "teknoloji & bilim       0.87      0.87      0.87      1193\n",
            "\n",
            "         accuracy                           0.87      4672\n",
            "        macro avg       0.87      0.87      0.87      4672\n",
            "     weighted avg       0.87      0.87      0.87      4672\n",
            "\n"
          ]
        }
      ]
    },
    {
      "cell_type": "code",
      "source": [
        "Xtest = [x.decode('UTF8') for x in Xtest] #Xtest arrayinin içindeki tweetler utf-8 formatına dönüştürülüyor"
      ],
      "metadata": {
        "id": "mPCrRFpeMBYe"
      },
      "execution_count": 133,
      "outputs": []
    },
    {
      "cell_type": "code",
      "source": [
        "d = {'tweet': Xtest,'category':y_test ,'nb-tahmin': y_pred_NB,'svm-tahmin':y_pred_SVM}\n",
        "df_tahmin = pd.DataFrame(data=d)"
      ],
      "metadata": {
        "id": "gze_Bv9aQEtg"
      },
      "execution_count": 151,
      "outputs": []
    },
    {
      "cell_type": "code",
      "source": [
        "# Modellerin tweetlere göre yaptığı tahminlerin sonuçları\n",
        "\n",
        "# 0=spor , 1=ekonomi , 2=siyaset , 3=teknoloji & bilim\n",
        "\n",
        "df_tahmin.head(-5)"
      ],
      "metadata": {
        "colab": {
          "base_uri": "https://localhost:8080/",
          "height": 424
        },
        "id": "lDykwFCSElx0",
        "outputId": "e8b98f27-e0ea-4c67-a98a-0f6ebefe28f6"
      },
      "execution_count": 152,
      "outputs": [
        {
          "output_type": "execute_result",
          "data": {
            "text/plain": [
              "                                                  tweet  category  nb-tahmin  \\\n",
              "0     chp genelmek başkan kemal kılıçdaroğlu iyi ...         2          2   \n",
              "1     ad tıp kurum demans hastası siyaset aysel tuğ...         2          2   \n",
              "2     zafersahin06 iktidar yakınmak gördüğünüzn...         2          2   \n",
              "3             abd banka şiddet bir resesyon atlamak mi         1          1   \n",
              "4                                  borsa kapanmak rekor         1          1   \n",
              "...                                                 ...       ...        ...   \n",
              "4662  deniz seviye 2800 metre üstün dev deniz sür...         3          3   \n",
              "4663  kedi yakınmak çevren iyi iç dışarı çıkarma...         3          3   \n",
              "4664                       3 binmek i̇stanbulkart bloke         1          1   \n",
              "4665  hiranur vakıf sancaktepe kaçak yapı özel ima...         2          2   \n",
              "4666  i̇ran rusya uzay endüstri işbirliği öngör...         3          1   \n",
              "\n",
              "      svm-tahmin  \n",
              "0              2  \n",
              "1              2  \n",
              "2              2  \n",
              "3              1  \n",
              "4              1  \n",
              "...          ...  \n",
              "4662           3  \n",
              "4663           3  \n",
              "4664           1  \n",
              "4665           2  \n",
              "4666           3  \n",
              "\n",
              "[4667 rows x 4 columns]"
            ],
            "text/html": [
              "\n",
              "  <div id=\"df-0577e71f-c68b-425b-bdce-672c5cf1e167\">\n",
              "    <div class=\"colab-df-container\">\n",
              "      <div>\n",
              "<style scoped>\n",
              "    .dataframe tbody tr th:only-of-type {\n",
              "        vertical-align: middle;\n",
              "    }\n",
              "\n",
              "    .dataframe tbody tr th {\n",
              "        vertical-align: top;\n",
              "    }\n",
              "\n",
              "    .dataframe thead th {\n",
              "        text-align: right;\n",
              "    }\n",
              "</style>\n",
              "<table border=\"1\" class=\"dataframe\">\n",
              "  <thead>\n",
              "    <tr style=\"text-align: right;\">\n",
              "      <th></th>\n",
              "      <th>tweet</th>\n",
              "      <th>category</th>\n",
              "      <th>nb-tahmin</th>\n",
              "      <th>svm-tahmin</th>\n",
              "    </tr>\n",
              "  </thead>\n",
              "  <tbody>\n",
              "    <tr>\n",
              "      <th>0</th>\n",
              "      <td>chp genelmek başkan kemal kılıçdaroğlu iyi ...</td>\n",
              "      <td>2</td>\n",
              "      <td>2</td>\n",
              "      <td>2</td>\n",
              "    </tr>\n",
              "    <tr>\n",
              "      <th>1</th>\n",
              "      <td>ad tıp kurum demans hastası siyaset aysel tuğ...</td>\n",
              "      <td>2</td>\n",
              "      <td>2</td>\n",
              "      <td>2</td>\n",
              "    </tr>\n",
              "    <tr>\n",
              "      <th>2</th>\n",
              "      <td>zafersahin06 iktidar yakınmak gördüğünüzn...</td>\n",
              "      <td>2</td>\n",
              "      <td>2</td>\n",
              "      <td>2</td>\n",
              "    </tr>\n",
              "    <tr>\n",
              "      <th>3</th>\n",
              "      <td>abd banka şiddet bir resesyon atlamak mi</td>\n",
              "      <td>1</td>\n",
              "      <td>1</td>\n",
              "      <td>1</td>\n",
              "    </tr>\n",
              "    <tr>\n",
              "      <th>4</th>\n",
              "      <td>borsa kapanmak rekor</td>\n",
              "      <td>1</td>\n",
              "      <td>1</td>\n",
              "      <td>1</td>\n",
              "    </tr>\n",
              "    <tr>\n",
              "      <th>...</th>\n",
              "      <td>...</td>\n",
              "      <td>...</td>\n",
              "      <td>...</td>\n",
              "      <td>...</td>\n",
              "    </tr>\n",
              "    <tr>\n",
              "      <th>4662</th>\n",
              "      <td>deniz seviye 2800 metre üstün dev deniz sür...</td>\n",
              "      <td>3</td>\n",
              "      <td>3</td>\n",
              "      <td>3</td>\n",
              "    </tr>\n",
              "    <tr>\n",
              "      <th>4663</th>\n",
              "      <td>kedi yakınmak çevren iyi iç dışarı çıkarma...</td>\n",
              "      <td>3</td>\n",
              "      <td>3</td>\n",
              "      <td>3</td>\n",
              "    </tr>\n",
              "    <tr>\n",
              "      <th>4664</th>\n",
              "      <td>3 binmek i̇stanbulkart bloke</td>\n",
              "      <td>1</td>\n",
              "      <td>1</td>\n",
              "      <td>1</td>\n",
              "    </tr>\n",
              "    <tr>\n",
              "      <th>4665</th>\n",
              "      <td>hiranur vakıf sancaktepe kaçak yapı özel ima...</td>\n",
              "      <td>2</td>\n",
              "      <td>2</td>\n",
              "      <td>2</td>\n",
              "    </tr>\n",
              "    <tr>\n",
              "      <th>4666</th>\n",
              "      <td>i̇ran rusya uzay endüstri işbirliği öngör...</td>\n",
              "      <td>3</td>\n",
              "      <td>1</td>\n",
              "      <td>3</td>\n",
              "    </tr>\n",
              "  </tbody>\n",
              "</table>\n",
              "<p>4667 rows × 4 columns</p>\n",
              "</div>\n",
              "      <button class=\"colab-df-convert\" onclick=\"convertToInteractive('df-0577e71f-c68b-425b-bdce-672c5cf1e167')\"\n",
              "              title=\"Convert this dataframe to an interactive table.\"\n",
              "              style=\"display:none;\">\n",
              "        \n",
              "  <svg xmlns=\"http://www.w3.org/2000/svg\" height=\"24px\"viewBox=\"0 0 24 24\"\n",
              "       width=\"24px\">\n",
              "    <path d=\"M0 0h24v24H0V0z\" fill=\"none\"/>\n",
              "    <path d=\"M18.56 5.44l.94 2.06.94-2.06 2.06-.94-2.06-.94-.94-2.06-.94 2.06-2.06.94zm-11 1L8.5 8.5l.94-2.06 2.06-.94-2.06-.94L8.5 2.5l-.94 2.06-2.06.94zm10 10l.94 2.06.94-2.06 2.06-.94-2.06-.94-.94-2.06-.94 2.06-2.06.94z\"/><path d=\"M17.41 7.96l-1.37-1.37c-.4-.4-.92-.59-1.43-.59-.52 0-1.04.2-1.43.59L10.3 9.45l-7.72 7.72c-.78.78-.78 2.05 0 2.83L4 21.41c.39.39.9.59 1.41.59.51 0 1.02-.2 1.41-.59l7.78-7.78 2.81-2.81c.8-.78.8-2.07 0-2.86zM5.41 20L4 18.59l7.72-7.72 1.47 1.35L5.41 20z\"/>\n",
              "  </svg>\n",
              "      </button>\n",
              "      \n",
              "  <style>\n",
              "    .colab-df-container {\n",
              "      display:flex;\n",
              "      flex-wrap:wrap;\n",
              "      gap: 12px;\n",
              "    }\n",
              "\n",
              "    .colab-df-convert {\n",
              "      background-color: #E8F0FE;\n",
              "      border: none;\n",
              "      border-radius: 50%;\n",
              "      cursor: pointer;\n",
              "      display: none;\n",
              "      fill: #1967D2;\n",
              "      height: 32px;\n",
              "      padding: 0 0 0 0;\n",
              "      width: 32px;\n",
              "    }\n",
              "\n",
              "    .colab-df-convert:hover {\n",
              "      background-color: #E2EBFA;\n",
              "      box-shadow: 0px 1px 2px rgba(60, 64, 67, 0.3), 0px 1px 3px 1px rgba(60, 64, 67, 0.15);\n",
              "      fill: #174EA6;\n",
              "    }\n",
              "\n",
              "    [theme=dark] .colab-df-convert {\n",
              "      background-color: #3B4455;\n",
              "      fill: #D2E3FC;\n",
              "    }\n",
              "\n",
              "    [theme=dark] .colab-df-convert:hover {\n",
              "      background-color: #434B5C;\n",
              "      box-shadow: 0px 1px 3px 1px rgba(0, 0, 0, 0.15);\n",
              "      filter: drop-shadow(0px 1px 2px rgba(0, 0, 0, 0.3));\n",
              "      fill: #FFFFFF;\n",
              "    }\n",
              "  </style>\n",
              "\n",
              "      <script>\n",
              "        const buttonEl =\n",
              "          document.querySelector('#df-0577e71f-c68b-425b-bdce-672c5cf1e167 button.colab-df-convert');\n",
              "        buttonEl.style.display =\n",
              "          google.colab.kernel.accessAllowed ? 'block' : 'none';\n",
              "\n",
              "        async function convertToInteractive(key) {\n",
              "          const element = document.querySelector('#df-0577e71f-c68b-425b-bdce-672c5cf1e167');\n",
              "          const dataTable =\n",
              "            await google.colab.kernel.invokeFunction('convertToInteractive',\n",
              "                                                     [key], {});\n",
              "          if (!dataTable) return;\n",
              "\n",
              "          const docLinkHtml = 'Like what you see? Visit the ' +\n",
              "            '<a target=\"_blank\" href=https://colab.research.google.com/notebooks/data_table.ipynb>data table notebook</a>'\n",
              "            + ' to learn more about interactive tables.';\n",
              "          element.innerHTML = '';\n",
              "          dataTable['output_type'] = 'display_data';\n",
              "          await google.colab.output.renderOutput(dataTable, element);\n",
              "          const docLink = document.createElement('div');\n",
              "          docLink.innerHTML = docLinkHtml;\n",
              "          element.appendChild(docLink);\n",
              "        }\n",
              "      </script>\n",
              "    </div>\n",
              "  </div>\n",
              "  "
            ]
          },
          "metadata": {},
          "execution_count": 152
        }
      ]
    },
    {
      "cell_type": "code",
      "source": [
        "#Modelin hata oranları\n",
        "\n",
        "from sklearn.metrics import mean_squared_error\n",
        "from sklearn.metrics import mean_absolute_error\n",
        "\n",
        "\n",
        "nb_mse=mean_squared_error(y_test,predictions_test_nb) #nb modelinin ortalama kare hatası\n",
        "print(\"nb modelinin ortalama kare hatası:\",nb_mse)\n",
        "\n",
        "nb_mae=mean_absolute_error(y_test,predictions_test_nb) #nb modelinin ortalama mutlak hatası\n",
        "print(\"nb modelinin ortalama mutlak hatası:\",nb_mae)\n",
        "\n",
        "print(\"\\n\")\n",
        "\n",
        "svm_mse=mean_squared_error(y_test,predictions_test_svm) #svm modelinin ortalama kare hatası\n",
        "print(\"svm modelinin ortalama kare hatası:\",svm_mse)\n",
        "\n",
        "svm_mae=mean_absolute_error(y_test,predictions_test_svm) #svm modelinin ortalama mutlak hatası\n",
        "print(\"svm modelinin ortalama mutlak hatası:\",svm_mae)"
      ],
      "metadata": {
        "colab": {
          "base_uri": "https://localhost:8080/"
        },
        "id": "TxnVAqvySd0e",
        "outputId": "b30aaec1-a06d-43da-976c-f1bb9a92f51b"
      },
      "execution_count": 166,
      "outputs": [
        {
          "output_type": "stream",
          "name": "stdout",
          "text": [
            "nb modelinin ortalama kare hatası: 0.3272688356164384\n",
            "nb modelinin ortalama mutlak hatası: 0.19584760273972604\n",
            "\n",
            "\n",
            "svm modelinin ortalama kare hatası: 0.3450342465753425\n",
            "svm modelinin ortalama mutlak hatası: 0.19777397260273974\n"
          ]
        }
      ]
    },
    {
      "cell_type": "code",
      "source": [
        "!pip install zeyrek\n",
        "import zeyrek"
      ],
      "metadata": {
        "colab": {
          "base_uri": "https://localhost:8080/"
        },
        "id": "nfwP4UgzMNaF",
        "outputId": "04ca3eb9-5943-4e95-87c0-93a83ad78760"
      },
      "execution_count": 136,
      "outputs": [
        {
          "output_type": "stream",
          "name": "stdout",
          "text": [
            "Looking in indexes: https://pypi.org/simple, https://us-python.pkg.dev/colab-wheels/public/simple/\n",
            "Requirement already satisfied: zeyrek in /usr/local/lib/python3.8/dist-packages (0.1.2)\n",
            "Requirement already satisfied: nltk>=3 in /usr/local/lib/python3.8/dist-packages (from zeyrek) (3.7)\n",
            "Requirement already satisfied: joblib in /usr/local/lib/python3.8/dist-packages (from nltk>=3->zeyrek) (1.2.0)\n",
            "Requirement already satisfied: click in /usr/local/lib/python3.8/dist-packages (from nltk>=3->zeyrek) (7.1.2)\n",
            "Requirement already satisfied: regex>=2021.8.3 in /usr/local/lib/python3.8/dist-packages (from nltk>=3->zeyrek) (2022.6.2)\n",
            "Requirement already satisfied: tqdm in /usr/local/lib/python3.8/dist-packages (from nltk>=3->zeyrek) (4.64.1)\n"
          ]
        }
      ]
    },
    {
      "cell_type": "code",
      "source": [
        "#Model lemmatize işlemi yapılmış verilerden oluştuğundan modele manuel tweet gönderirken tekrardan lemmatize işlemi yapmak gerekli\n",
        "\n",
        "from IPython.display import clear_output \n",
        "nltk.download('punkt')     #Lemmatize işlemi için kütüphaneden indiriliyor.\n",
        "\n",
        "def lemm_tweet(tweet):  \n",
        "    analyzer = zeyrek.MorphAnalyzer()\n",
        "    lemm_tweet = analyzer.lemmatize(tweet)    #tweetler için lemmatize işlemi gerçekleştiriliyor\n",
        "    lemm_tweet=[el[1][-1] for el in lemm_tweet]\n",
        "    clear_tweet =' '.join(lemm_tweet)         #dizi string hale getiriliyor\n",
        "    clear_tweet = clear_tweet.lower()         #metin küçük harflere çevriliyor\n",
        "    clear_output(wait=True)                   #konsol temizleniyor\n",
        "    return clear_tweet"
      ],
      "metadata": {
        "colab": {
          "base_uri": "https://localhost:8080/"
        },
        "id": "PB44uPNUhT0h",
        "outputId": "694dff12-cba8-46e8-a301-2a7be06c010d"
      },
      "execution_count": 137,
      "outputs": [
        {
          "output_type": "stream",
          "name": "stderr",
          "text": [
            "[nltk_data] Downloading package punkt to /root/nltk_data...\n",
            "[nltk_data]   Package punkt is already up-to-date!\n"
          ]
        }
      ]
    },
    {
      "cell_type": "code",
      "source": [
        "#Manuel tweet testi\n",
        "\n",
        "tweet = \"2023 asgari ücreti açıklandı. 2023 de asgari ücret 8500 tl olacak\"\n",
        "\n",
        "\n",
        "lemm_data=lemm_tweet(tweet) #girilen metni lemmatize işlemine sokarak her kelimesinin kökünü aldırıyoruz\n",
        "\n",
        "print(\"TWEET:\",tweet)                          #girilen tweet\n",
        "print(\"LEMM TWEET:\",lemm_data,\"\\n\")            #lemmatize edilmiş tweet\n",
        "\n",
        "tweet_vec = vectorizer.transform([lemm_data])  #Metni modele göndermek için metnin vektörünü alıyoruz\n",
        "\n",
        "category_sonuc_svm=model_SVM.predict(tweet_vec)   #SVM modeline girdiğimiz tweeti gönderiyoruz\n",
        "category_sonuc_nb=model_NB.predict(tweet_vec)     #MultinomialNB modeline girdiğimiz tweeti gönderiyoruz\n",
        "\n",
        "print(\"NB Model Proba :\", model_NB.predict_proba(tweet_vec))   #Modelin tahmin ettiği olasılıklar\n",
        "print(\"SVM Model Proba:\", model_SVM.predict_proba(tweet_vec))    #svm modelinin predict'i proba ya göre daha fazla çaprazlama yaptığı için bazen predict ile proba arasında farklılık oluşabiliyor. \n",
        "\n",
        "print(\"\\nNB modelinin tahmini: \", category[category_sonuc_nb[0]])      #modelin girilen tweet tahmini\n",
        "print(\"SVM modelinin tahmini:\", category[category_sonuc_svm[0]])      #modelin girilen tweet tahmini\n"
      ],
      "metadata": {
        "colab": {
          "base_uri": "https://localhost:8080/"
        },
        "id": "iubaUhkEhPSI",
        "outputId": "be79e282-8994-44de-886b-a27ee6469b07"
      },
      "execution_count": 167,
      "outputs": [
        {
          "output_type": "stream",
          "name": "stdout",
          "text": [
            "TWEET: 2023 asgari ücreti açıklandı. 2023 de asgari ücret 8500 tl olacak\n",
            "LEMM TWEET: 2023 asgari ücret açıklamak . 2023 de asgari ücret 8500 tl olmak \n",
            "\n",
            "NB Model Proba : [[0.02745809 0.63954342 0.27333564 0.05966284]]\n",
            "SVM Model Proba: [[0.00427511 0.64165519 0.3397377  0.014332  ]]\n",
            "\n",
            "NB modelinin tahmini:  ekonomi\n",
            "SVM modelinin tahmini: ekonomi\n"
          ]
        }
      ]
    }
  ]
}